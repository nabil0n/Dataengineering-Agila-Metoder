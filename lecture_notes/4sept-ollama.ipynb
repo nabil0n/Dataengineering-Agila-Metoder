{
 "cells": [
  {
   "cell_type": "markdown",
   "metadata": {},
   "source": [
    "## 4e September\n",
    "\n",
    "# Ollama mm"
   ]
  },
  {
   "cell_type": "markdown",
   "metadata": {},
   "source": [
    "sök på ollama docker för att få hem en docker: dockerhub\n",
    "https://hub.docker.com/r/ollama/ollama"
   ]
  },
  {
   "cell_type": "markdown",
   "metadata": {},
   "source": [
    "Bra syntax att komma ihåg: docker run *model:version* typ: docker run qwen2:0.5b"
   ]
  },
  {
   "cell_type": "markdown",
   "metadata": {},
   "source": [
    "MIT licens!\n",
    "\n",
    " MEN INTE NÖDVÄNDIGTVIS MIT FÖR MODELLERNA INUTI OLLAMA\n"
   ]
  }
 ],
 "metadata": {
  "language_info": {
   "name": "python"
  }
 },
 "nbformat": 4,
 "nbformat_minor": 2
}
