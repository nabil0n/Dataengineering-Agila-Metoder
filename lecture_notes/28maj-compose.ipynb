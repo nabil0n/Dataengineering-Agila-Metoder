{
 "cells": [
  {
   "cell_type": "markdown",
   "metadata": {},
   "source": [
    "# Docker-Compose\n",
    "\n",
    "Används mest för att köra applikationer i cloud"
   ]
  },
  {
   "cell_type": "markdown",
   "metadata": {},
   "source": [
    "- varför försöker vi göra små dockercontainrar?\n",
    "    - vi vill kunna köra många\n"
   ]
  },
  {
   "cell_type": "markdown",
   "metadata": {},
   "source": [
    "- Säg att vi har en appdocker och en postgres docker\n",
    "- Detta är ett problem då inget sparas.\n",
    "- **Compose!**\n",
    "    - blir som en container av containers\n",
    "    - blir en service (annat exempel på service är en databas)\n",
    "    - Han målar rutor\n",
    "        - Så största rutan är Host, alltså var vi kör vår emulering\n",
    "        - inuti den sitter vår compose\n",
    "            - den är kopplad med *volume*, en emulerad hårddisk\n",
    "        - inuti compose finns då alltså vår app och databas från exemplet ovan\n",
    "- **Deamon**: från grekiska daimon, en hjälpande ande\n",
    "    - container*d*\n",
    "    - system*d*\n",
    "    - ett hjälpprogram som inte avslutas\n",
    "- **Bindmount**\n",
    "    - använder en katalog från värdsystemet\n",
    "    - ett bra sätt att \"live\" koda i docker utan att behöva köra om vår container osv"
   ]
  },
  {
   "cell_type": "markdown",
   "metadata": {},
   "source": [
    "- Composefilen:\n",
    "    - .yml (.yaml) - Yet Another Markup Language\n",
    "    - måste ha services, det är det enda som krävs, men...\n",
    "    - ... det finns mycket mer funktionalitet"
   ]
  },
  {
   "cell_type": "code",
   "execution_count": null,
   "metadata": {},
   "outputs": [],
   "source": [
    "# \n",
    "\n",
    "import psycopg\n",
    "\n",
    "with psycopg.connect(\"host=localhost port=8080 user=postgres password=1234\") as conn:\n",
    "    cur = conn.execute(\"SELECT 1;\")\n",
    "    print(cur.fetchall())"
   ]
  }
 ],
 "metadata": {
  "language_info": {
   "name": "python"
  }
 },
 "nbformat": 4,
 "nbformat_minor": 2
}
