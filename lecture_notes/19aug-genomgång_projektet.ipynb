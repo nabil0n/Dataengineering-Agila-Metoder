{
 "cells": [
  {
   "cell_type": "markdown",
   "metadata": {},
   "source": [
    "# 19e Augusti\n",
    "\n",
    "## Genomgång av projektuppgiften"
   ]
  },
  {
   "cell_type": "markdown",
   "metadata": {},
   "source": [
    "- Redovisningen är individuell\n",
    "    - Kodgenomgång\n",
    "    - Beskriva arbetssättet\n",
    "    - MAX 20 MIN\n",
    "    - Hur har appen förberetts för att köras i molnet\n",
    "    - Inlämning fredag den 13e!"
   ]
  },
  {
   "cell_type": "markdown",
   "metadata": {},
   "source": [
    "Detta repo innehåller en påhittad legacy produkt som ni i detta projekt skall uppdatera, dockerisera och sätta upp en ordentlig data pipeline till. De flesta av dessa första tasks kommer leda till nya tasks. Tidsuppskatta även de nya och synka prioritet med PO. \n",
    "\n",
    "Se till att utvecklingsmiljön använder ny/senaste docker, airflow och python. Notera att existerande kod inte går att köra i en docker-container med nuvarande versioner av airflow och alltså måste portas. En ytterligare notis är att äldre versioner använde kommandot `docker-compose`. Det har nu blivit `docker compose`. \n",
    "\n",
    "## STORY\n",
    "```\n",
    "Användaren vill kunna starta systemet via 'docker compose up'.\n",
    "``` \n",
    "### Tasks\n",
    "    · Undersök existerande airflow (`docker-compose.yml`) konfiguration och porta nödvändiga delar till senaste airflow `docker-compose.yaml`.\n",
    "    · Skapa en ny airflow dockerfil som inkluderar nödvändig kod\n",
    "    · Ändra data-lake hanteringen till S3 kompatibelt\n",
    "    · Undersök databashanteringen i data warehouse koden\n",
    "\n",
    "---\n",
    "\n",
    "## STORY\n",
    "    Vid ett givet tidsintervall skall de senaste bloggarna sammanfattas i en discord kanal\n",
    "### Tasks\n",
    "    · Undersök hur discordbotten fungerar\n",
    "    · Undersök hur bloggarna hanteras (postas samma många ggr etc)\n",
    "    · Skriv en eller flera airflow DAGs som:\n",
    "        · Hämtar bloggar (Extract)\n",
    "        · Sammanfattar bloggar (Transform)\n",
    "        · Gör sammanfattningar tillgängliga (Load)\n",
    "        · Skickar uppdateringar till discord"
   ]
  },
  {
   "cell_type": "markdown",
   "metadata": {},
   "source": [
    "- I gruppen\n",
    "    - Gör en tidsuppfattning\n",
    "        - S/M/L (small, medium, large)\n",
    "        - Utvärdera SML i efterhand och förfina\n",
    "        - Ersätt med poäng\n",
    "    - Träffas regelbundet\n",
    "        - Ta en Task vardera från båda stories\n",
    "    - När vi ses, prata inte om vad som inte hänt!\n",
    "    - Fokusera på vad som gjorts och vad som är nästa steg"
   ]
  },
  {
   "cell_type": "markdown",
   "metadata": {},
   "source": [
    "- Minimum är väldigt lite\n",
    "    - Bara få saker at rulla\n",
    "    - s3 osv\n",
    "- Men lägg gärna till features om tid finns osv\n",
    "    - MEN\n",
    "        - \"är det värt det?\"\n",
    "        - \"vad får vi ut av det?\"\n",
    "    - Definition of Done"
   ]
  },
  {
   "cell_type": "markdown",
   "metadata": {},
   "source": [
    "- Handläggningstid\n",
    "    - Synca med Raphael om vad vi gör och vad som händer!\n",
    "    - Använd handläggningen!\n",
    "    - Ingen fast tid, men minst en gång i veckan"
   ]
  }
 ],
 "metadata": {
  "language_info": {
   "name": "python"
  }
 },
 "nbformat": 4,
 "nbformat_minor": 2
}
