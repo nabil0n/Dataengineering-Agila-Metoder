{
 "cells": [
  {
   "cell_type": "markdown",
   "metadata": {},
   "source": [
    "# Mjukvaruutveckling - Historia"
   ]
  },
  {
   "cell_type": "markdown",
   "metadata": {},
   "source": [
    "https://en.wikipedia.org/wiki/Software_development_process\n",
    "\n",
    "- IEC 12207\n",
    "    - Den första standarden (?)\n",
    "    - Vattenfallsutveckling\n",
    "    - Används inte längre (typ)\n",
    "    - Superhög kvalitet på mjukvaran\n",
    "    - Tar väldigt lång tid!\n",
    "    "
   ]
  },
  {
   "cell_type": "markdown",
   "metadata": {},
   "source": [
    "- SCRUM\n",
    "    - kommer från rugby (den där kramande cirkeln man står i och peppar varandra)\n",
    "    - Används uteslutande i webutveckling till en början\n",
    "    - "
   ]
  },
  {
   "cell_type": "markdown",
   "metadata": {},
   "source": [
    "- Agila manifestet\n",
    "    - https://www.agilemanifesto.org\n",
    "    - Fina ord...\n",
    "    - ... men funkar rätt dåligt.\n",
    "    - Skrivet mer för managern än för utvecklaren"
   ]
  },
  {
   "cell_type": "markdown",
   "metadata": {},
   "source": [
    "- Agilt arbetssätt\n",
    "    - Handlar om att vara flexibel för förändring av produktens mål under produktens utveckling.\n",
    "    - Går superfort! (i jämförelse med vattenfallsutveckling)\n",
    "    - ... men med lägre kvalitet\n",
    "\n",
    "\n",
    "- Scrum-Dailies:\n",
    "    - Ett möte där alla får prata och ingen får bli avbruten!\n",
    "    - Berätta vad som är gjort och åta dig en ny uppgift.\n",
    "    - Detta funkar bra!"
   ]
  },
  {
   "cell_type": "markdown",
   "metadata": {},
   "source": [
    "- Tillit\n",
    "    - Agila metoder föfaller helt och hållet om inte alla utvecklare löitar på att alla andra löser uppgiften."
   ]
  },
  {
   "cell_type": "markdown",
   "metadata": {},
   "source": [
    "- Produktutveckling för en fysisk produkt\n",
    "    - Forskning ->\n",
    "    - Utveckling ->\n",
    "    - Driftsättning ->\n",
    "    - Destruktion"
   ]
  },
  {
   "cell_type": "markdown",
   "metadata": {},
   "source": [
    "- System/tjänst utveckling\n",
    "    - Kund ->\n",
    "    - utveckling ->\n",
    "    - levernas ->\n",
    "    - (avveckling)"
   ]
  },
  {
   "cell_type": "markdown",
   "metadata": {},
   "source": [
    "- Produkt + tjänst\n",
    "    - DevOps\n",
    "        - Kund -> Development <-> Operations -> (avveckling)\n",
    "        - Dev och Ops loopas tillbaks till varandra flera gånger. Därav namnet.\n",
    "        - Även Ops till Kund loopas.\n",
    "        - Dev brukar vara scrum, Ops brukar vara kanban"
   ]
  },
  {
   "cell_type": "markdown",
   "metadata": {},
   "source": [
    "- Data life cycle\n",
    "    - create -> manage <-> use -> destroy\n",
    "    - (mellan use och destroy finns ibland 'share -> re-use')\n",
    "    - "
   ]
  },
  {
   "cell_type": "markdown",
   "metadata": {},
   "source": [
    "- Vad är scrum? (kommer mer ingående senare i kursen)\n",
    "    - Divide and Conquer (eat an elephant)\n",
    "    - Definition of DONE\n",
    "        - tex klarar cl1 och cl2 och några standradtester\n",
    "        - behöver inte nödvändigtvis vara färdigt att sjösättas\n",
    "    - user story (dålig enligt Rafael)\n",
    "        - \"As a customer, I want [feature] in order to get [value].\n",
    "        - Absolut nonsens.\n",
    "        - \"A reminder of a conversation to be had with a customer\"\n",
    "    - user story (bättre variant)\n",
    "        - \"När en webläsare inte kan visa ett visst element, omdirigera användaren till en installationssida.\"\n",
    "        - Beskriver vad som händer och vad som bör hända.\n",
    "    - Backlog\n",
    "        - Bryt ner user story till beståndsdelar.\n",
    "        - enl scrum-metoden är det bara produktägaren som får ändra i backlog\n",
    "        - ... men i verkligheten så är det teamet som gör det.\n",
    "        - Beståndsdelarna blir tasks\n",
    "    - LWIP\n",
    "        - Limit Work In Progress"
   ]
  },
  {
   "cell_type": "markdown",
   "metadata": {},
   "source": [
    "- kanban (kommer också mer om detta sen)\n",
    "    - pipeline / löpandeband princip\n",
    "    - Vissa regler:\n",
    "        - LWIP (igen)\n",
    "            - Man får inte åta sig för mycket\n",
    "            - För att förhindra halvfärdiga arbeten\n",
    "        - "
   ]
  }
 ],
 "metadata": {
  "language_info": {
   "name": "python"
  }
 },
 "nbformat": 4,
 "nbformat_minor": 2
}
