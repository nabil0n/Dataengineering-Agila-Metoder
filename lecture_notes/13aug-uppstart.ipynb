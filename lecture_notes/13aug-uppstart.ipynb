{
 "cells": [
  {
   "cell_type": "markdown",
   "metadata": {},
   "source": [
    "# Uppstart - 13 augusti"
   ]
  },
  {
   "cell_type": "markdown",
   "metadata": {},
   "source": [
    "## Projektet\n",
    "\n",
    "- Uppgiften:\n",
    "    - Skrapa bloggar\n",
    "    - Sammanfatta texter\n",
    "    - Posta till discord\n",
    "    - Redovisa enskilt\n",
    "- Fokus på att jobba i grupp, koden kommer nästan* gratis\n",
    "- Alla i gruppen bör ha gjort en större commit\n",
    "- Spela in en personlig video där det förklaras vad som gjorts, både ditt och andras i gruppen\n",
    "    - *Review*\n",
    "- Jobba som ett team!\n",
    "    - Hur vi vill, men helst tillsammans irl\n",
    "- Din grupp == Vår LIA grupp!"
   ]
  },
  {
   "cell_type": "markdown",
   "metadata": {},
   "source": [
    "## Trender 2024\n",
    "\n",
    "- Googles dom ang monopol\n",
    "    - Vad det innebär för oss:\n",
    "        - Google research kanske försvinner\n",
    "        - En av de största forskningsresusrserna i världen\n",
    "        - Saker kommer börja kosta pengar\n",
    "- nVidias anti-trust fall\n",
    "    - citat: \"priserna kommer fortsatt vara höga\" = monopol red flag\n",
    "    - CUDA\n",
    "        - nVidia har misskött hur det utvecklats och fördelats\n",
    "    - Taiwanesiskt bolag\n",
    "        - Vad händer om det blir konflikt med Kina\n",
    "- AI-trender - medium.com\n",
    "    - Customizable chat bot\n",
    "        - målet: personlig assisten\n",
    "    - Multimodal AI\n",
    "    - AI-agents\n",
    "    - AI-dissinformation och tex konststöld\n",
    "    - Brist på utvecklare med koll! (bra för oss!)\n",
    "    - Hypecycle har peakat för generativ AI\n",
    "    - Small Language Models - SLM\n",
    "        - Microsoft ligger i framkant\n",
    "        - Människor lär sig språk med bara en bråkdel av informationen som LLMs behöver\n",
    "        - Så vill såklart SLMs utvecklare att datorer ska lära sig också\n",
    "        - Raphael spanar att det kommer bland annat hjälpa typ copilot"
   ]
  }
 ],
 "metadata": {
  "language_info": {
   "name": "python"
  }
 },
 "nbformat": 4,
 "nbformat_minor": 2
}
