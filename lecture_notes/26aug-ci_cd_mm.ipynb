{
 "cells": [
  {
   "cell_type": "markdown",
   "metadata": {},
   "source": [
    "## 26e Augusti"
   ]
  },
  {
   "cell_type": "markdown",
   "metadata": {},
   "source": [
    "Mer om krav för inlämning\n",
    "\n",
    "- Alla ska ha gjort en väsentlig commit\n",
    "- Förklara koden i en video\n",
    "    - minst din egen\n",
    "    - men för högre betyg även andras"
   ]
  },
  {
   "cell_type": "markdown",
   "metadata": {},
   "source": [
    "Schema i närtid:\n",
    "- 28e -> Cloud och discord\n",
    "- Nästa vecka -> Ollama och statistik för uptime osv.\n",
    "\n",
    "----"
   ]
  },
  {
   "cell_type": "markdown",
   "metadata": {},
   "source": [
    "\n",
    "# CI/CD och Testning\n",
    "https://github.com/pr0fez/Data-engineering-AI23/blob/main/Lecture-theory/Lec6-CI_CD.pdf"
   ]
  },
  {
   "cell_type": "markdown",
   "metadata": {},
   "source": [
    "- Generellt\n",
    "    - En stor grupp behöver mer struktur\n",
    "    - CI/CD ett sätt att hantera en del\n",
    "    - Ett sätt att automatisera de första stegen\n",
    "    - Motverka \"YOLO-utvecklaren\"\n",
    "    - Delad kodstil (kan göras automatiskt till viss del)\n",
    "- Continuous Integration\n",
    "    - BUILD -> TEST -> MERGE\n",
    "- Continuous Delivery\n",
    "    - Automatiskt släpp till repo\n",
    "- Continuous Deployment\n",
    "    - Automatisk deploy\n",
    "    - Nackdelar (typ crowdstrike)\n",
    "    - Fördelar (tidssparande)\n"
   ]
  },
  {
   "cell_type": "markdown",
   "metadata": {},
   "source": [
    "- .pre-commit-config.yaml\n",
    "    - format\n",
    "        - black\n",
    "        - pep8\n",
    "    - kör egentligen vad som helst med scripts\n",
    "    - tests  osv\n",
    "\n",
    "- tests\n",
    "    - bra för att testa oförutsedda sidoeffekter\n",
    "    - Ett mycket bra sätt att dokumentera hur koden är tänkt att funka!\n",
    "    - TDD - test driven development\n",
    "        - Mycket bra, alla vill göra det\n",
    "        - ... men ingen gör det\n",
    "        - För det är svårt\n",
    "    **- Unit tests:**\n",
    "        - Fokus på att testa de minsta testbara koddelar, så som mindre funktioner/metoder\n",
    "    **- Integration tests:**\n",
    "        - Testar integrering och sammarbete mellan moduler osv\n",
    "    **- Regression Tests:**\n",
    "        - Hitta oförutsedda resultat pga förändringar i koden\n",
    "        - Används bla när saker INTE FÅR gå sönder\n",
    "            - Raphaels exempel om nödsamtal\n",
    "    - Andra typen av tester\n",
    "        - Acceptance test - tex säger kunden att om detta funkar så köper vi\n",
    "        - Finctional test\n",
    "        - Performance test\n",
    "        - Security test\n",
    "        - mm\n",
    "    - Vilka test du ska använda beror helt på produkten och projektet!!\n",
    "    - Du vill att dina tester är snabba så att de kan köras automatiskt utan att hämma utvecklarens flow."
   ]
  },
  {
   "cell_type": "markdown",
   "metadata": {},
   "source": [
    "- Pytest\n",
    "    - Populärt.\n",
    "    - Används främst för unit test\n",
    "    - hittar allt i mappen som heter \"test_...\" och testar de funktioner som heter \"test_...\" i filen\n"
   ]
  }
 ],
 "metadata": {
  "language_info": {
   "name": "python"
  }
 },
 "nbformat": 4,
 "nbformat_minor": 2
}
