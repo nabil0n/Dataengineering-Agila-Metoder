{
 "cells": [
  {
   "cell_type": "markdown",
   "metadata": {},
   "source": [
    "## 28e Augusti\n",
    "\n",
    "# Cloud"
   ]
  },
  {
   "cell_type": "markdown",
   "metadata": {},
   "source": [
    "- Framför allt en affärsmodell\n",
    "- Exempel på cloudtjänster\n",
    "    - Web hosting\n",
    "        - Firebase (Google)\n",
    "        - Web apps (Microsoft)\n",
    "        - Amplify (Amazon)\n",
    "    - Virtual server\n",
    "        - EC2 (Amazon)\n",
    "        - Azure Virtual Machine\n",
    "        - Compute Engine (Microsoft)\n",
    "        - IBM har många\n",
    "    - VMware\n",
    "        - Alla har nåt\n",
    "        - För typ ssh liknande skit\n",
    "    - CMS - Container Managment Server - **Det vi gör i denna kurs**\n",
    "        - De flesta kör/stödjer Kubernetes\n",
    "            - Docker och Kubernetes brukade köras på liknande sätt\n",
    "            - Nu är de olika och Kubernetes är mycket mer avancerat\n",
    "    - ML och AI relaterat\n",
    "        - Finns massa hos alla.\n",
    "        - Mest bara färdiga conatainrar egentligen med färdigloadade verktyg som typ pytorch osv\n",
    "    - med mera, verkligen supermycket"
   ]
  }
 ],
 "metadata": {
  "language_info": {
   "name": "python"
  }
 },
 "nbformat": 4,
 "nbformat_minor": 2
}
