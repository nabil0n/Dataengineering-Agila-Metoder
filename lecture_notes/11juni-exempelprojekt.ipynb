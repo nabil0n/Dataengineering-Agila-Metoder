{
 "cells": [
  {
   "cell_type": "markdown",
   "metadata": {},
   "source": [
    "# Exempelprojekt - film recomender"
   ]
  },
  {
   "cell_type": "markdown",
   "metadata": {},
   "source": [
    "- Idé:\n",
    "    - Ett team på 5 pers + PO\n",
    "    - De ska göra en rekomendator i stil med tidiga Pandora.\n",
    "    - Sessionsbaserad interaktion\n",
    "    - \"Sökmoln\""
   ]
  },
  {
   "cell_type": "markdown",
   "metadata": {},
   "source": [
    "- Några krav:\n",
    "    - Ska kunna lanseras i molnet i framtiden\n",
    "    - En användare letar efter en film, öppna tjänsten och vil ange en startpunkt.\n",
    "        - **UI**\n",
    "        - **databas**\n",
    "        - **object store**\n",
    "        - **Detta är vad fokus ligger på idag**"
   ]
  },
  {
   "cell_type": "markdown",
   "metadata": {},
   "source": [
    "Svårt att hägna med, han går igenom färdig kod."
   ]
  },
  {
   "cell_type": "markdown",
   "metadata": {},
   "source": [
    "- Några verktyg:\n",
    "    - minIO\n",
    "    - s3service\n",
    "    - \n",
    "- Några comands:\n",
    "    - docker network connect datastore default (missade nog något)"
   ]
  },
  {
   "cell_type": "code",
   "execution_count": null,
   "metadata": {
    "vscode": {
     "languageId": "plaintext"
    }
   },
   "outputs": [],
   "source": [
    "mkdir -p ~/minio/data\n",
    "\n",
    "docker run \\\n",
    "   -p 9000:9000 \\\n",
    "   -p 9001:9001 \\\n",
    "   --name minio \\\n",
    "   -v ~/minio/data:/data \\\n",
    "   -e \"MINIO_ROOT_USER=ROOTNAME\" \\\n",
    "   -e \"MINIO_ROOT_PASSWORD=CHANGEME123\" \\\n",
    "   quay.io/minio/minio server /data --console-address \":9001\""
   ]
  }
 ],
 "metadata": {
  "language_info": {
   "name": "python"
  }
 },
 "nbformat": 4,
 "nbformat_minor": 2
}
