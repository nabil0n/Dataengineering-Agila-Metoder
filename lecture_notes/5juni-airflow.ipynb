{
 "cells": [
  {
   "cell_type": "markdown",
   "metadata": {},
   "source": [
    "# Airflow"
   ]
  },
  {
   "cell_type": "markdown",
   "metadata": {},
   "source": [
    "- Där cron är lite begränsat och byggt för köra tidsbestämda linux-admin saker\n",
    "- .. löser airflow det på annat sätt, som kanske är bättre för det vi ska göra.\n",
    "- Förra kursen lärde sig airflow på en låg nivå (miljövariableer osv)\n",
    "- Men vi ska använda oss av ett annat verktyg för att styra det (?) == astronomer\n",
    "- (Astro CLI)"
   ]
  },
  {
   "cell_type": "markdown",
   "metadata": {},
   "source": [
    "- Var airflow används - Blivit en standard inom vissa brancher\n",
    "    - ETL/ELT\n",
    "        - Extract, Transform, Load\n",
    "        - (och i en annan ordning)\n",
    "    - ML ops\n",
    "        - typ det vi gjorde i maskininlärningskursen\n",
    "    - Infrastruktur\n",
    "        - byggsystem\n",
    "        - deploy test etc\n",
    "    - SaaS (Software as a Service)\n",
    "        - Typ Adobe\n",
    "- Vi kommer att fokusera på de två översta"
   ]
  },
  {
   "cell_type": "markdown",
   "metadata": {},
   "source": [
    "- DAG (Directed Acyclic Graph)\n",
    "    - En graf där:\n",
    "        - En nod kan bara besökas en gång\n",
    "        - Inga cykler\n",
    "        - Varje nod = \"Task\" = python funktion\n",
    "        - Varje node \"körs\" och beroende på resultatet så går vi till en av de möjliga nästa noder i turodningen."
   ]
  }
 ],
 "metadata": {
  "language_info": {
   "name": "python"
  }
 },
 "nbformat": 4,
 "nbformat_minor": 2
}
