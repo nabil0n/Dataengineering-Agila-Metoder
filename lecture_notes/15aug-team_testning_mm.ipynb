{
 "cells": [
  {
   "cell_type": "markdown",
   "metadata": {},
   "source": [
    "# 15e Augusti\n",
    "## Mer om projektet - Jobba i team - Testning - CI/CD"
   ]
  },
  {
   "cell_type": "markdown",
   "metadata": {},
   "source": [
    "..            |  ..\n",
    ":-------------------------:|:-------------------------:\n",
    "![](imgs/projektet.png) | ![](imgs/teamwork.png)\n",
    "![](imgs/vadharhant.png) | ![](imgs/topdownbottomup.png)\n",
    "![](imgs/granskning.png) | ![](imgs/testning.png)"
   ]
  },
  {
   "cell_type": "markdown",
   "metadata": {},
   "source": [
    "## Testning\n",
    "\n",
    "- \"Testning kan endast påvisa *närvaron* av fel, aldrig deras avsaknad\" - Dijkstra\n",
    "- Några grunder att följa:\n",
    "    - Testa extremvärden\n",
    "    - ogiltliga värden\n",
    "    - loop & kontrollvilkor\n",
    "- Ramverk -> Continous Integration -> Continous Deployment\n",
    "    - CI / CD\n",
    "    - CI = Automatiska tester\n",
    "        - Vid git commit görs tester automatiskt!\n",
    "            - Men såklart ska det testas mer än bara vid commit.\n",
    "        - CL nivåer - Confindence Levels\n",
    "    - CD = Automatisk leverans \"rolling upgrade\" ex windows\n",
    "        - Har stora fördelar, säkerhet, versionsprobelmatik mm\n",
    "- Att ha bra testfall är viktigare än att ha bra kod.'\n"
   ]
  },
  {
   "cell_type": "markdown",
   "metadata": {},
   "source": [
    "## Cloud - molntjänster\n",
    "- Man kör sitt på program på någon annans dator.\n",
    "- Historia:\n",
    "    - Kognitionsvetenskap - Ett område inom datavetenskap\n",
    "        - 90-talet\n",
    "        - artefakter kontra tjänster\n",
    "            - artefakter: där allt på min dator\n",
    "            - tjänster: då är allt nån annanstans, på nån annans dator\n",
    "        - Historian: stordata -> hemdator -> tunna klienter -> webtops -> \"molnet\"\n",
    "- NU:\n",
    "    - \"virtuella artefakter\"\n",
    "    - software as a service - allt är tjänster\n",
    "- internet\n",
    "    - IANA\n",
    "        - håller koll på alla adresser på interent\n",
    "    - Peering\n",
    "- Hur levereras mjukvara i molnet?\n",
    "    - Docker och Kubernetes industriledande\n",
    "        - Kör virtualiserade miljöer (operationsystem)\n",
    "            - \"computer as a service\"\n",
    "        - program -> \"dockerize\" -> skicka till operatören typ azure/aws\n",
    "    - orkestrering, körning, skriptning:\n",
    "        - Airflow"
   ]
  }
 ],
 "metadata": {
  "language_info": {
   "name": "python"
  }
 },
 "nbformat": 4,
 "nbformat_minor": 2
}
