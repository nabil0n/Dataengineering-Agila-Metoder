{
 "cells": [
  {
   "cell_type": "markdown",
   "metadata": {},
   "source": [
    "## 4e juni"
   ]
  },
  {
   "cell_type": "markdown",
   "metadata": {},
   "source": [
    "- Hur levereras mjukvara?\n",
    "- Historia\n",
    "- Data engineering\n",
    "- ML"
   ]
  },
  {
   "cell_type": "markdown",
   "metadata": {},
   "source": [
    "Senare i veckan:\n",
    "- Airflow\n",
    "- prompt engineering"
   ]
  },
  {
   "cell_type": "markdown",
   "metadata": {},
   "source": [
    "---"
   ]
  },
  {
   "cell_type": "markdown",
   "metadata": {},
   "source": [
    "Hur levereras mjukvara?\n",
    "- Förr hade du en boxad kopia.\n",
    "    - Perpetual licence\n",
    "    - betala *EN* gång\n",
    "- Decentralisera vs centralisera\n",
    "    - tex alla har sin egen monstermaskin och kör sitt eget. (decentraliserat)\n",
    "    - tex mainframe (centraliserad) Cloud. En api/tjänst/service.\n",
    "        - Betala många ggr\n",
    "- Inte i huvudsak en teknisk utveckling utan en ekonomisk."
   ]
  },
  {
   "cell_type": "markdown",
   "metadata": {},
   "source": [
    "- MTX\n",
    "    - Microtransaktioner på allt\n",
    "    - \"När kan kunden betala\", \"När är kunden villig att betala\"\n",
    "    - Nån sorts \"elräkning\" på hur mycket man använt en tjänst."
   ]
  },
  {
   "cell_type": "markdown",
   "metadata": {},
   "source": [
    "- Business Intelligence (BI)\n",
    "    - Det stora kravet på ML\n",
    "    - En förväntan om att att omkostnadskurvan ska planas ut men inkomnster ska stiga.\n",
    "    - extern: datainsamling genom att spionera på kunder/konkurenter\n",
    "    - intern: hitta data hos sig själv och enginera dem till att ...\n"
   ]
  },
  {
   "cell_type": "markdown",
   "metadata": {},
   "source": [
    "- Allt har blivit mer *virtualiserat*\n",
    "    - Typ Docker\n",
    "    - Annars på webb/cloud på något sätt\n",
    "    - Nästan alltid ett webbinterface\n",
    "    - Körs ofta i molnet, dvs, en virtualiserad serverpark.\n",
    "- Som utvecklare:\n",
    "    - docker save (inte så vanligt)\n",
    "    - Api i molnet vanligare.\n",
    "    - Men vanligast: Kodleverans. Typ git-repo.\n",
    "        - Behöver levereras med tester osv\n",
    "    - Också vanligt. Att helt enkelt vara anställd inom företagets väggar.\n",
    "- MOTSATS: embedded IoT. leverans av fysiska små paket"
   ]
  },
  {
   "cell_type": "markdown",
   "metadata": {},
   "source": [
    "- Trendbyten\n",
    "    - Ofrånkomliga.\n",
    "    - Byta system ofta.\n",
    "    - Inte nödvnädigtvis av bra skäl, men det kommer att göras. Tex nu använder vi Docker, vad händer om 6 måndader?\n",
    "- Hur påverkas ML?\n",
    "    - BI igen! (Se ovan)\n",
    "    - [\"Why do 87% of Data Science projects fail?\"](https://mtszkw.medium.com/why-do-87-of-data-science-projects-fail-and-are-we-sure-that-it-is-true-fe8b5ba1404c)\n",
    "        - Data behöver vara oberoende, men det är VÄLDIGT sällan data är oberoende.\n",
    "        - Lösningen är Dataengineering! Woho!\n",
    "            - Clean data\n",
    "            - Feature engineering\n",
    "        - Termer (som är specifika för vissa företag så använd inte hur som):\n",
    "            - oprocessad data: **Data Lake** (text, html, db, binärt)\n",
    "            - processad data: **Data Warehouse** (strukturerad databas)"
   ]
  },
  {
   "cell_type": "markdown",
   "metadata": {},
   "source": [
    "- NLPs\n",
    "    - Har blivit ett nyt sätt att prata med datorn\n",
    "    - prompt engineering: Det nya!\n",
    "        - System / User\n",
    "            - System: \"Du är en filmkritker, sammanfatta följande recension och generera och ge användaren en lista av relevanta nyckelord\"\n",
    "            - User: \"___________ \\<recension>\"\n",
    "    - Vi kan förutsätta att detta sättet kommer att ta över hur vi kommunicerar med datorer."
   ]
  },
  {
   "cell_type": "markdown",
   "metadata": {},
   "source": [
    "- Algoritmer (Traditionell AI)\n",
    "    - rekomendationer, förutsägelser, beroenden\n",
    "    - datorvision, mönsterigenkänning\n",
    "    - spela schack, mm"
   ]
  },
  {
   "cell_type": "markdown",
   "metadata": {},
   "source": [
    "- Roller i maskininlärning\n",
    "    - Dataengineer\n",
    "        - Hanteringen av information\n",
    "        - Förbehandling\n",
    "        - Integration\n",
    "    - Data Scientist (statistiker)\n",
    "        - Trendanalys (extern BI)\n",
    "        - Produktrelaterad statistik (intern BI)\n",
    "        - ev intern BI med ekonomer: Affärsplanering / kostnadsanalys etc\n",
    "- Agilt:\n",
    "    - Product Owner (PO) -icke teknisk\n",
    "    - Scrum master (SM) -icke teknisk\n",
    "    - Utvecklare (Alla andra)\n",
    "    - DataEngineer jobbar ofta nära PO av praktiska skäl\n",
    "        - Det är PO som vet var datan kommer ifrån och vet hur den ska användas."
   ]
  },
  {
   "cell_type": "markdown",
   "metadata": {},
   "source": [
    "- Fler roller för DataEngineering som inte nödvändigtvis handlar om ML\n",
    "    - Myndigheter (kanske inte ännu så mkt i sverige)\n",
    "        - Legacy\n",
    "    - Webb\n",
    "        - Marknadsföring\n",
    "    - Automotive\n",
    "        - inte så mycket förtillfället. Datainsamlingsfasen är väl typ klar.\n",
    "        - Mer data science och hardcore ML för att knäcka självkörande mm\n",
    "    - Aerospace\n",
    "        - Har använts i 60år+\n",
    "        - Plan har kunnat landa sig självt länge\n",
    "        - autopilot\n",
    "        - ENORM potential inom rymdbranchen\n",
    "            - Men väldigt traditionellt och långsamt i de flesta fall av utvecklingen\n",
    "    - Datorspel\n",
    "        - Bara skrapat på ytan av potentialen\n",
    "        - Mobilspel använder det mycket, men då endast BI. Inte själva gameplay\n",
    "        - Kasinon."
   ]
  }
 ],
 "metadata": {
  "language_info": {
   "name": "python"
  }
 },
 "nbformat": 4,
 "nbformat_minor": 2
}
