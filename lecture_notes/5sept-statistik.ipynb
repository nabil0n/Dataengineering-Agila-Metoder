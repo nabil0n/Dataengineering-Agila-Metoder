{
 "cells": [
  {
   "cell_type": "markdown",
   "metadata": {},
   "source": [
    "- X = meantime to failure\n",
    "\n",
    "- f, R (Reliability), p \"hazard\"\n",
    "\n",
    "- R(t) = 1 - P[component fails before t]\n",
    "\n",
    "    - = 1 - sum(f(X)dx)\n",
    "    - = 1 - F(t)\n",
    "\n",
    "- p(t) = f(t)/R(t)\n",
    "\n",
    "- (bild på stigande graf p över t)\n",
    "- failure probability increases with time\n",
    "\n",
    "- (bild på minskande p över t)\n",
    "- failure probability decreases with time -> välgjort system om det funkar så här\n",
    "\n",
    "- (bild på konstant p över t)\n",
    "- steady hazard rate -> slumpmässiga fel som sker.\n",
    "\n",
    "- Vad använder vi det till?\n",
    "    - Tillförlitlighetsanalys\n",
    "    - Parallella och sekvensiella system\n",
    "    - Exempel\n",
    "        - (bild på noder i serie och parallelitet med sannolikheter inuti noderna, de heter I, II, III osv)\n",
    "        - R(t) = produkten av R i (t)\n",
    "        - II: [1 - (1-0.95)^2] = 0.9975\n",
    "        - Chebuchevs tumregel -> funkar alltid\n",
    "            - P [1x-µ1<k*sigma ] = 1 - 1/k^2\n",
    "            - Industriexempel\n",
    "                - M - time since last serious accident\n",
    "                - E[|M|] = 2 million +- 0.1 million h\n",
    "                - <= 1.6 million ?\n",
    "                - P[M<=1.6]\n",
    "                - Chebusev: K = 4 == P[M <= 1.6] < 0.0625\n",
    "                    - P(1.6< M < 2.4) >= 1 - 1/4^2 = 0.9375\n",
    "\n",
    "- Weibuldistrubution (ovan) -> meantime to failure\n",
    "- poisson: average failure/time\n",
    "\n"
   ]
  },
  {
   "cell_type": "markdown",
   "metadata": {},
   "source": [
    "Om inlämning:\n",
    "- MAX 20min, försök 15\n",
    "- För godkänt:\n",
    "    - Redogör för eget arbete\n",
    "- För VG:\n",
    "    - Redogör för hela gruppens arbete\n",
    "    - Redogör för \"cloud ready\"\n",
    "- Lämnas in via ithsdistans\n",
    "- Den 13e september"
   ]
  }
 ],
 "metadata": {
  "language_info": {
   "name": "python"
  }
 },
 "nbformat": 4,
 "nbformat_minor": 2
}
