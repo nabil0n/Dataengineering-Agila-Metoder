{
 "cells": [
  {
   "cell_type": "markdown",
   "metadata": {},
   "source": [
    "# Docker - Föreläsningsanteckningar"
   ]
  },
  {
   "cell_type": "markdown",
   "metadata": {},
   "source": [
    "- https://hub.docker.com\n",
    "- Här finns images av OS till Dockerfile\n",
    "- JÖSSES vad det gick undan sen, jag hängde inte med. Se inspelning."
   ]
  },
  {
   "cell_type": "markdown",
   "metadata": {},
   "source": [
    "Några commandon\n",
    "- Skapa din image\n",
    "    - sudo docker build -t dockerdemo .\n",
    "- Kör din http docker\n",
    "    - sudo docker run -p 8081:8081 -it dockerdemo "
   ]
  }
 ],
 "metadata": {
  "language_info": {
   "name": "python"
  }
 },
 "nbformat": 4,
 "nbformat_minor": 2
}
